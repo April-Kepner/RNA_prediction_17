{
 "cells": [
  {
   "cell_type": "markdown",
   "metadata": {
    "collapsed": false
   },
   "source": [
    "## 螺旋桨RNA结构预测竞赛第17名方案（详细信息见work/代码说明）\n"
   ]
  },
  {
   "cell_type": "code",
   "execution_count": 1,
   "metadata": {
    "collapsed": false
   },
   "outputs": [
    {
     "name": "stdout",
     "output_type": "stream",
     "text": [
      "/opt/conda/envs/python35-paddle120-env/lib/python3.7/site-packages/paddle/fluid/layers/utils.py:26: DeprecationWarning: `np.int` is a deprecated alias for the builtin `int`. To silence this warning, use `int` by itself. Doing this will not modify any behavior and is safe. When replacing `np.int`, you may wish to use e.g. `np.int64` or `np.int32` to specify the precision. If you wish to review your current use, check the release note link for additional information.\n",
      "Deprecated in NumPy 1.20; for more details and guidance: https://numpy.org/devdocs/release/1.20.0-notes.html#deprecations\n",
      "  def convert_to_list(value, n, name, dtype=np.int):\n",
      "2021-05-13 18:26:18.844563\n",
      "# python3 work/src/main_base.py train --model-path-base [model_directory_name]\n",
      "# Training set contains 4750 Sequences.\n",
      "# Validation set contains 250 Sequences.\n",
      "# Paddle: Using device: CUDAPlace(0)\n",
      "# Initializing model...\n",
      "initializing vacabularies... done.\n",
      "Sequence(6): ['<START>', '<STOP>', 'A', 'C', 'G', 'U']\n",
      "Brackets(5): ['<START>', '<STOP>', '(', ')', '.']\n",
      "# Checking validation 10 times an epoch (every 475 batches)\n",
      "/opt/conda/envs/python35-paddle120-env/lib/python3.7/site-packages/paddle/fluid/layers/math_op_patch.py:298: UserWarning: /home/aistudio/work/src/network_res.py:53\n",
      "The behavior of expression A + B has been unified with elementwise_add(X, Y, axis=-1) from Paddle 2.0. If your code works well in the older versions but crashes in this version, try to use elementwise_add(X, Y, axis=0) instead of A + B. This transitional warning will be dropped in the future.\n",
      "  op_type, op_type, EXPRESSION_MAP[method_name]))\n",
      "W0513 18:26:20.371939  7311 device_context.cc:362] Please NOTE: device: 0, GPU Compute Capability: 7.0, Driver API Version: 11.0, Runtime API Version: 10.1\n",
      "W0513 18:26:20.376394  7311 device_context.cc:372] device: 0, cuDNN Version: 7.6.\n",
      "# Epoch 1 starting.\n",
      "epoch 1 batch 1 processed 32 batch-loss 0.4757 epoch-elapsed 0h00m00s total-elapsed 0h00m03s \n",
      "epoch 1 batch 2 processed 64 batch-loss 0.4540 epoch-elapsed 0h00m01s total-elapsed 0h00m04s \n",
      "epoch 1 batch 3 processed 96 batch-loss 0.3813 epoch-elapsed 0h00m01s total-elapsed 0h00m04s \n",
      "epoch 1 batch 4 processed 128 batch-loss 0.4002 epoch-elapsed 0h00m02s total-elapsed 0h00m05s \n",
      "epoch 1 batch 5 processed 160 batch-loss 0.4079 epoch-elapsed 0h00m02s total-elapsed 0h00m05s \n",
      "epoch 1 batch 6 processed 192 batch-loss 0.3754 epoch-elapsed 0h00m03s total-elapsed 0h00m06s \n",
      "epoch 1 batch 7 processed 224 batch-loss 0.3791 epoch-elapsed 0h00m03s total-elapsed 0h00m06s \n",
      "epoch 1 batch 8 processed 256 batch-loss 0.3622 epoch-elapsed 0h00m03s total-elapsed 0h00m07s \n",
      "epoch 1 batch 9 processed 288 batch-loss 0.3481 epoch-elapsed 0h00m04s total-elapsed 0h00m07s \n",
      "^C\n",
      "Traceback (most recent call last):\n",
      "  File \"work/src/main_base.py\", line 426, in <module>\n",
      "    main()\n",
      "  File \"work/src/main_base.py\", line 421, in main\n",
      "    args.callback(args)\n",
      "  File \"work/src/main_base.py\", line 191, in run_train\n",
      "    batch_loss,pred_values = exe.run(main_program, feed=feeder.feed(transfer(batch)),\n",
      "  File \"/opt/conda/envs/python35-paddle120-env/lib/python3.7/site-packages/paddle/fluid/data_feeder.py\", line 388, in feed\n",
      "    each_converter.feed(each_slot)\n",
      "  File \"/opt/conda/envs/python35-paddle120-env/lib/python3.7/site-packages/paddle/fluid/data_feeder.py\", line 181, in feed\n",
      "    self._feed_impl_(data, self.lod, self.lod_level)\n",
      "  File \"/opt/conda/envs/python35-paddle120-env/lib/python3.7/site-packages/paddle/fluid/data_feeder.py\", line 189, in _feed_impl_\n",
      "    self._feed_impl_(each_data, lod[1:], lod_level - 1)\n",
      "KeyboardInterrupt\n"
     ]
    }
   ],
   "source": [
    "#训练\n",
    "!python work/src/main_base.py train --model-path-base [model_directory_name]"
   ]
  },
  {
   "cell_type": "code",
   "execution_count": null,
   "metadata": {
    "collapsed": false
   },
   "outputs": [
    {
     "name": "stdout",
     "output_type": "stream",
     "text": [
      "/opt/conda/envs/python35-paddle120-env/lib/python3.7/site-packages/paddle/fluid/layers/utils.py:26: DeprecationWarning: `np.int` is a deprecated alias for the builtin `int`. To silence this warning, use `int` by itself. Doing this will not modify any behavior and is safe. When replacing `np.int`, you may wish to use e.g. `np.int64` or `np.int32` to specify the precision. If you wish to review your current use, check the release note link for additional information.\n",
      "Deprecated in NumPy 1.20; for more details and guidance: https://numpy.org/devdocs/release/1.20.0-notes.html#deprecations\n",
      "  def convert_to_list(value, n, name, dtype=np.int):\n",
      "Loading data...\n",
      "Loading model...\n",
      "W0513 18:26:32.696569  7373 device_context.cc:362] Please NOTE: device: 0, GPU Compute Capability: 7.0, Driver API Version: 11.0, Runtime API Version: 10.1\n",
      "W0513 18:26:32.701014  7373 device_context.cc:372] device: 0, cuDNN Version: 7.6.\n",
      "/opt/conda/envs/python35-paddle120-env/lib/python3.7/site-packages/paddle/fluid/layers/math_op_patch.py:298: UserWarning: /home/aistudio/work/src/network_res.py:53\n",
      "The behavior of expression A + B has been unified with elementwise_add(X, Y, axis=-1) from Paddle 2.0. If your code works well in the older versions but crashes in this version, try to use elementwise_add(X, Y, axis=0) instead of A + B. This transitional warning will be dropped in the future.\n",
      "  op_type, op_type, EXPRESSION_MAP[method_name]))\n"
     ]
    }
   ],
   "source": [
    "#预测（B榜）\r\n",
    "!python work/src/main_base.py test --model-path-base work/model/model_dev\\=0.2543/"
   ]
  },
  {
   "cell_type": "code",
   "execution_count": null,
   "metadata": {
    "collapsed": false
   },
   "outputs": [],
   "source": []
  },
  {
   "cell_type": "code",
   "execution_count": null,
   "metadata": {
    "collapsed": false
   },
   "outputs": [],
   "source": []
  }
 ],
 "metadata": {
  "kernelspec": {
   "display_name": "PaddlePaddle 2.0.0b0 (Python 3.5)",
   "language": "python",
   "name": "py35-paddle1.2.0"
  },
  "language_info": {
   "codemirror_mode": {
    "name": "ipython",
    "version": 3
   },
   "file_extension": ".py",
   "mimetype": "text/x-python",
   "name": "python",
   "nbconvert_exporter": "python",
   "pygments_lexer": "ipython3",
   "version": "3.7.4"
  }
 },
 "nbformat": 4,
 "nbformat_minor": 1
}
